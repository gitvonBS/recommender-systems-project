{
 "cells": [
  {
   "cell_type": "code",
   "execution_count": 3,
   "id": "d5db852f-7315-4190-bac0-ab0aa9bad34a",
   "metadata": {},
   "outputs": [
    {
     "name": "stdout",
     "output_type": "stream",
     "text": [
      "   impression_id  article_id     impression_time  read_time   \n",
      "0         149474         NaN 2023-05-24 07:47:53       13.0  \\\n",
      "1         150528         NaN 2023-05-24 07:33:25       25.0   \n",
      "2         153068   9778682.0 2023-05-24 07:09:04       78.0   \n",
      "3         153070   9777492.0 2023-05-24 07:13:14       26.0   \n",
      "4         153071   9778623.0 2023-05-24 07:11:08      125.0   \n",
      "\n",
      "   scroll_percentage  device_type   \n",
      "0                NaN            2  \\\n",
      "1                NaN            2   \n",
      "2              100.0            1   \n",
      "3              100.0            1   \n",
      "4              100.0            1   \n",
      "\n",
      "                                  article_ids_inview article_ids_clicked   \n",
      "0  [9778623, 9778682, 9778669, 9778657, 9778736, ...           [9778657]  \\\n",
      "1  [9778718, 9778728, 9778745, 9778669, 9778657, ...           [9778623]   \n",
      "2  [9778657, 9778669, 9772866, 9776259, 9756397, ...           [9778669]   \n",
      "3  [9020783, 9778444, 9525589, 7213923, 9777397, ...           [9778628]   \n",
      "4  [9777492, 9774568, 9565836, 9335113, 9771223, ...           [9777492]   \n",
      "\n",
      "   user_id  is_sso_user  gender  postcode  age  is_subscriber  session_id   \n",
      "0   139836        False     NaN       NaN  NaN          False         759  \\\n",
      "1   143471        False     NaN       NaN  NaN          False        1240   \n",
      "2   151570        False     NaN       NaN  NaN          False        1976   \n",
      "3   151570        False     NaN       NaN  NaN          False        1976   \n",
      "4   151570        False     NaN       NaN  NaN          False        1976   \n",
      "\n",
      "   next_read_time  next_scroll_percentage  \n",
      "0             7.0                    22.0  \n",
      "1           287.0                   100.0  \n",
      "2            45.0                   100.0  \n",
      "3             4.0                    18.0  \n",
      "4            26.0                   100.0  \n"
     ]
    }
   ],
   "source": [
    "import pandas as pd\n",
    "\n",
    "# Load the .parquet file\n",
    "df = pd.read_parquet(\"dataset/train/behaviors.parquet\")\n",
    "\n",
    "# Display the first few rows\n",
    "print(df.head())"
   ]
  },
  {
   "cell_type": "code",
   "execution_count": null,
   "id": "0974227b-807a-423a-b0af-c1f58277eb6c",
   "metadata": {},
   "outputs": [],
   "source": []
  }
 ],
 "metadata": {
  "kernelspec": {
   "display_name": "Python 3 (ipykernel)",
   "language": "python",
   "name": "python3"
  },
  "language_info": {
   "codemirror_mode": {
    "name": "ipython",
    "version": 3
   },
   "file_extension": ".py",
   "mimetype": "text/x-python",
   "name": "python",
   "nbconvert_exporter": "python",
   "pygments_lexer": "ipython3",
   "version": "3.10.0"
  }
 },
 "nbformat": 4,
 "nbformat_minor": 5
}
